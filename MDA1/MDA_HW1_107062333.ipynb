{
 "cells": [
  {
   "cell_type": "markdown",
   "metadata": {},
   "source": [
    "### Getting Input Data\n",
    "1. Use sc.textFile() to read the input text data \"500input.txt\", then tranform it to the RDD type data "
   ]
  },
  {
   "cell_type": "code",
   "execution_count": 1,
   "metadata": {},
   "outputs": [],
   "source": [
    "#Input\n",
    "text = sc.textFile('500input.txt')"
   ]
  },
  {
   "cell_type": "markdown",
   "metadata": {},
   "source": [
    "### Mapping 1\n",
    "1. Mapping the RDD data into several key-value pairs (j, (M, i, value)) if the data line belong to Matrix M, otherwise, (j, (N, k, value)) if the data line belong to Matrix N. \n",
    "3. Note that Matrix_M is i * j matrix and Matrix_N is j * k matrix, value means their index value.  \n",
    "4. After step 1 and 2, using the filter() to split the RDD from map1_rdd to map1_M_rdd and map1_N_rdd depending on Matrix name"
   ]
  },
  {
   "cell_type": "code",
   "execution_count": 2,
   "metadata": {},
   "outputs": [],
   "source": [
    "#Mapper1\n",
    "def mapper1(x):\n",
    "    y = x.split(',')\n",
    "    if y[0] == 'M':\n",
    "        return y[2],(y[0],y[1],y[3])\n",
    "    else:\n",
    "        return y[1],(y[0],y[2],y[3])\n",
    "map1_rdd = text.map(mapper1).sortBy(lambda x:x[0])\n",
    "map1_M_rdd = map1_rdd.filter(lambda x: x[1][0]=='M')\n",
    "map1_N_rdd = map1_rdd.filter(lambda x: x[1][0]=='N')"
   ]
  },
  {
   "cell_type": "markdown",
   "metadata": {},
   "source": [
    "### Mapping 2\n",
    "1. After mapping_1 operation, to get all possible combination, joinning the map1_M_rdd and map1_N_rdd first, each line will be ((j, (M, i, value)), (j, (N, k, value))).\n",
    "2. Then, I map the new RDD data into map2_rdd where the key-value pairs will be ( ( i, k ), ( M[i][j] * N[j][k] ) )."
   ]
  },
  {
   "cell_type": "code",
   "execution_count": 3,
   "metadata": {},
   "outputs": [],
   "source": [
    "#Mapper2\n",
    "join_rdd = map1_M_rdd.join(map1_N_rdd)\n",
    "map2_rdd = join_rdd.map(lambda x: ((x[1][0][1],x[1][1][1]),int(x[1][0][2])*int(x[1][1][2])))"
   ]
  },
  {
   "cell_type": "markdown",
   "metadata": {},
   "source": [
    "### Reducing\n",
    "1. Finally, with the key (i,k) and the value, we can easily use the reduce function to get the sum of all value with identical key. "
   ]
  },
  {
   "cell_type": "code",
   "execution_count": 4,
   "metadata": {},
   "outputs": [],
   "source": [
    "#Reducing\n",
    "def reducer(x,y):\n",
    "    return x+y\n",
    "\n",
    "reduce_rdd = map2_rdd.reduceByKey(reducer).sortBy(lambda x:(int(x[0][0]),int(x[0][1])))"
   ]
  },
  {
   "cell_type": "markdown",
   "metadata": {},
   "source": [
    "### Output The Result\n",
    "1. Using the open() to open the output traget file, and then using write() to output the data into the file\n",
    "2. After finishing, closing the file to avoid putting program in the garbage collectors hands."
   ]
  },
  {
   "cell_type": "code",
   "execution_count": 5,
   "metadata": {
    "scrolled": true
   },
   "outputs": [],
   "source": [
    "#output result\n",
    "out_file = open(\"Outputfile.txt\",'w')\n",
    "for item in reduce_rdd.collect():\n",
    "    out_file.write(str(item[0][0])+','+str(item[0][1])+','+str(item[1])+\"\\n\")\n",
    "out_file.close()"
   ]
  }
 ],
 "metadata": {
  "kernelspec": {
   "display_name": "Python 3",
   "language": "python",
   "name": "python3"
  },
  "language_info": {
   "codemirror_mode": {
    "name": "ipython",
    "version": 3
   },
   "file_extension": ".py",
   "mimetype": "text/x-python",
   "name": "python",
   "nbconvert_exporter": "python",
   "pygments_lexer": "ipython3",
   "version": "3.6.5"
  }
 },
 "nbformat": 4,
 "nbformat_minor": 4
}

{
 "cells": [
  {
   "cell_type": "markdown",
   "metadata": {},
   "source": [
    "# HW3 k-means on MapReduce"
   ]
  },
  {
   "cell_type": "markdown",
   "metadata": {},
   "source": [
    "## Setting config\n",
    "1. import some lib\n",
    "2. set the config"
   ]
  },
  {
   "cell_type": "code",
   "execution_count": 1,
   "metadata": {},
   "outputs": [],
   "source": [
    "#initial\n",
    "import math\n",
    "import time\n",
    "import pandas as pd\n",
    "import matplotlib.pyplot as plt\n",
    "from pyspark import SparkContext, SparkConf\n",
    "\n",
    "sc.stop()\n",
    "conf = SparkConf().setMaster(\"local\").setAppName(\"KMeans\")\n",
    "conf = SparkConf().set(\"spark.default.parallelism\", 1)\n",
    "sc = SparkContext(conf = conf)"
   ]
  },
  {
   "cell_type": "markdown",
   "metadata": {},
   "source": [
    "## Getting input data\n",
    "1. use sc.textFile to get c1.txt, c2.txt and data.txt \n",
    "2. map them by mapper_init_parsing(x), which is parsing the line and split it by 空格\n",
    "3. After parsing, we will get the RDDs which have key,value as [x0, x1, x2, ......, x57], for X is a 58-dimension vector"
   ]
  },
  {
   "cell_type": "code",
   "execution_count": 2,
   "metadata": {},
   "outputs": [],
   "source": [
    "def mapper_init_parsing(x):\n",
    "    y = x.split(' ')\n",
    "    return y\n",
    "#k=10\n",
    "#for c1\n",
    "c1 = sc.textFile(\"c1.txt\").map(mapper_init_parsing)\n",
    "#for c2\n",
    "c2 = sc.textFile(\"c2.txt\").map(mapper_init_parsing)\n",
    "#for points\n",
    "data = sc.textFile(\"data.txt\").map(mapper_init_parsing)\n"
   ]
  },
  {
   "cell_type": "markdown",
   "metadata": {},
   "source": [
    "## Giving C1, C2 and Data Index and then label them \n",
    "1. Since the initial input data doesn't give us the index for each centers, so we can use zipWithIndex() to that the C1, C2 and data RDDs such that their <key,value> will become <vector, index>\n",
    "2. we use map(lambda x:(\"#\",(x[1],x[0]))) to put index in front of vector, and then label them with '#' for next permutation"
   ]
  },
  {
   "cell_type": "code",
   "execution_count": 3,
   "metadata": {
    "scrolled": true
   },
   "outputs": [],
   "source": [
    "c1_new = c1\n",
    "c2_new = c2\n",
    "data_with_label = data.zipWithIndex().map(lambda x:(\"#\",(x[1],x[0])))\n",
    "C1_center_with_label = c1_new.zipWithIndex()\n",
    "C2_center_with_label = c2_new.zipWithIndex()"
   ]
  },
  {
   "cell_type": "markdown",
   "metadata": {},
   "source": [
    "## Map/Reduce Function define\n",
    "1. mapper_cal_euclidaen_tmp(x):\n",
    "    1. mapper_cal_euclidaen_tmp(x) is the map operation that calculate the Euclidean distance between each data point and each cluster center from the input RDD ( (point_index, point's 58_dimentions_values), (center_index, center's 58_dimentions_values))\n",
    "    2. after finish calculation, output the <key,values> RDD as ( point_index, (center_index, point's 58_dimentions_values, Euclidean_distance) )\n",
    "######  \n",
    "2. reducer_find_min(x,y):\n",
    "    1. reducer_find_min(x,y) is the reduce operation for finding the belonging cluster for each point by the most min distance\n",
    "###### \n",
    "3. reducer_tmp_centroid(x,y):\n",
    "    1. reducer_tmp_centroid(x,y) is  the reduce operation that help to sum up the vectors(i.e. point's 58_dimension_values) from all the points in same cluster, as the result the reduce key is the centroid point\n",
    "    2. after computing sum up, we ouput the <key,values> RDD as (center, (numbers_of_points, result_of_sum_up))\n",
    "###### \n",
    "4. cal_center_2(x):\n",
    "    1. cal_center_2(x) is the map operation that divide the result_of_sum_up by numbers_of_points, and finally get the new cluster center\n",
    "    2. So it will output the <key,values> RDD as (new_center_values, new_center_index), where new_center_index is same as previous center \n",
    "    3. I didn't ouput the index in front of values since after this map operation is at the end of iteration, and I will inverse them at the begging of next iteration\n",
    "###### \n",
    "\n",
    "5. reducer_add(x,y):\n",
    "    1. reducer_add(x,y) is the reduce operation that help us to calculate the cost of each iterations center after assign points.\n",
    "    2. this operation will sum_up all the disctance of each point to its cluster center"
   ]
  },
  {
   "cell_type": "code",
   "execution_count": 4,
   "metadata": {},
   "outputs": [],
   "source": [
    "def mapper_cal_euclidaen_tmp(x):\n",
    "    #, ((pt_i,pt), (ce_i,ce))\n",
    "    pt_index = x[1][0][0]\n",
    "    pt = x[1][0][1]\n",
    "    center_index = x[1][1][0]\n",
    "    center = x[1][1][1]\n",
    "    result = 0\n",
    "    for i in range(58):\n",
    "        result += (float(center[i])-float(pt[i]))**2\n",
    "    result = math.sqrt(result)\n",
    "    return pt_index,(center_index,pt,result)\n",
    "def reducer_find_min(x,y):\n",
    "    if x[2]<y[2]:\n",
    "        return x\n",
    "    else:\n",
    "        return y\n",
    "def reducer_tmp_centroid(x,y):\n",
    "    pts = x[0]+y[0]\n",
    "    result = []\n",
    "    for i in range(58):\n",
    "        result.append(float(x[1][i]) + float(y[1][i]))\n",
    "    return pts,result\n",
    "def cal_center_2(x):\n",
    "    N = x[1][0]\n",
    "    result = []\n",
    "    for i in range(58):\n",
    "        result.append(float(x[1][1][i])/float(N)) \n",
    "    return result,x[0]\n",
    "def reducer_add(x,y):\n",
    "    return x+y"
   ]
  },
  {
   "cell_type": "markdown",
   "metadata": {},
   "source": [
    "## Iteration of Euclidean  \n",
    "###### 約5分鐘執行時間\n",
    "### take C1 for explanation: \n",
    "##### first, we give the C1_rdd the index, and then label then with '#', which will ouput the RDD C1_center_with_label\n",
    "\n",
    "##### Assign point to its cluster\n",
    "    1. Join the C1_center_with_label and  data_center_with_label to get their all permutation \n",
    "    (In fact, we can just use cartesian() to acheive it that we don't need to label with '#' beforehand)\n",
    "    2. map them by calling mapper_cal_euclidaen_tmp(x) to calculate their all Euclidean Distance\n",
    "    3. reduce them by reducer_find_min(x,y) to find out each data_point's cluster\n",
    "    4. output the RDD name C1_Euclidean_result_RDD_tmp which <key,values> is (center_index, (point's 58_dimentions_values, Euclidean_distance))\n",
    "##### Recompute the cluster center\n",
    "    1. by the final output from Assign point to its cluster, we first should use map to give each line a count 1, which help us later use the reducer_tmp_centroid to calculate the point numbers inside a cluster, and also add_up all the points values with same cluster\n",
    "    2. after reducer_tmp_centroid, we call the map operation 'cal_center_2' to calculate the mean and gain the new cluster center for each previous cluster center.\n",
    "##### Calculate the Cost For plotting and answering the persentage\n",
    "    1. map the C1_Euclidean_result_RDD_tmp with its values**2, and then use rdd.sum() to calculate the cost. \n",
    "    2. store the recent iteration and cost result to a list as x,y for plotting graph.\n",
    "    "
   ]
  },
  {
   "cell_type": "code",
   "execution_count": 5,
   "metadata": {
    "scrolled": true
   },
   "outputs": [],
   "source": [
    "#########for storing every cost preparing for plotting and reference for percentage##############\n",
    "C1_pts_Euclidean_i = []\n",
    "C1_pts_Euclidean_cost = []\n",
    "C2_pts_Euclidean_i = []\n",
    "C2_pts_Euclidean_cost = []\n",
    "#################################################################################################\n",
    "\n",
    "#tStart = time.time()\n",
    "for i in range(20):\n",
    "    #print(\"iteration: \"+ str(i))\n",
    "    \n",
    "    #====================C1 Euclidean=====================================#\n",
    "    ####################Assign pt to its center############################\n",
    "    C1_center_with_label = C1_center_with_label.map(lambda x:(\"#\",(x[1],x[0])))\n",
    "    C1_Euclidean_result_RDD_tmp = data_with_label.join(C1_center_with_label).map(mapper_cal_euclidaen_tmp).reduceByKey(reducer_find_min).map(lambda x:x[1])\n",
    "    C1_centroid_cluster_Euclidean = C1_Euclidean_result_RDD_tmp.map(lambda x:(x[0],(1,x[1]))).reduceByKey(reducer_tmp_centroid).sortByKey(lambda x:x[0]).map(cal_center_2)\n",
    "    ####################Recompute new center###############################\n",
    "    C1_center_with_label = C1_centroid_cluster_Euclidean\n",
    "    ####################Calculte cost######################################\n",
    "    C1_Cost_RDD = C1_Euclidean_result_RDD_tmp.map(lambda x:(x[2]**2)).sum()\n",
    "    #=====================================================================#\n",
    "    \n",
    "    #====================C2 Euclidean=====================================#\n",
    "    C2_center_with_label = C2_center_with_label.map(lambda x:(\"#\",(x[1],x[0])))\n",
    "    C2_Euclidean_result_RDD_tmp = data_with_label.join(C2_center_with_label).map(mapper_cal_euclidaen_tmp).reduceByKey(reducer_find_min).map(lambda x:x[1])\n",
    "    C2_centroid_cluster_Euclidean = C2_Euclidean_result_RDD_tmp.map(lambda x:(x[0],(1,x[1]))).reduceByKey(reducer_tmp_centroid).sortByKey(lambda x:x[0]).map(cal_center_2)\n",
    "    \n",
    "    C2_center_with_label = C2_centroid_cluster_Euclidean\n",
    "    \n",
    "    C2_Cost_RDD = C2_Euclidean_result_RDD_tmp.map(lambda x:(x[2]**2)).sum()\n",
    "    #=====================================================================#\n",
    "    \n",
    "    #=====================for plotting====================================#\n",
    "    C1_pts_Euclidean_cost.append(C1_Cost_RDD)\n",
    "    C1_pts_Euclidean_i.append(\"Round \"+str(i+1))\n",
    "    C2_pts_Euclidean_cost.append(C2_Cost_RDD)\n",
    "    C2_pts_Euclidean_i.append(\"Round \"+str(i+1))\n",
    "    #=====================================================================#\n",
    "    \n",
    "#tEnd = time.time()#計時結束\n",
    "#print(\"It cost %f sec\" % (tEnd - tStart))"
   ]
  },
  {
   "cell_type": "markdown",
   "metadata": {},
   "source": [
    "## (a)-1  Plotting\n",
    "1. from the result of C1_pts_Euclidean and C2_pts_Euclidean, which store every cost of each iteration, we can easily collect() them and finally use plot() to plot them on the graph\n",
    "2. x-axis means iteration\n",
    "3. y-axis means cost"
   ]
  },
  {
   "cell_type": "code",
   "execution_count": 6,
   "metadata": {},
   "outputs": [
    {
     "data": {
      "image/png": "[encoded data removed]",
      "text/plain": [
       "<Figure size 1080x216 with 1 Axes>"
      ]
     },
     "metadata": {
      "needs_background": "light"
     },
     "output_type": "display_data"
    }
   ],
   "source": [
    "fig= plt.figure(figsize=(15,3))\n",
    "axes= fig.add_axes([1,1,1,1])\n",
    "plt.grid(axis='y')\n",
    "plt.xlabel(\"Round\") \n",
    "plt.ylabel(\"Cost\") \n",
    "axes.plot(C1_pts_Euclidean_i,C1_pts_Euclidean_cost, color ='blue',marker = \"o\")\n",
    "axes.plot(C2_pts_Euclidean_i,C2_pts_Euclidean_cost, color ='orange',marker = \"o\")\n",
    "plt.show()"
   ]
  },
  {
   "cell_type": "markdown",
   "metadata": {},
   "source": [
    "## (a)-2  Persentage"
   ]
  },
  {
   "cell_type": "code",
   "execution_count": 7,
   "metadata": {},
   "outputs": [
    {
     "name": "stdout",
     "output_type": "stream",
     "text": [
      "26.885383292518295%\n"
     ]
    }
   ],
   "source": [
    "#c1\n",
    "print(str((C1_pts_Euclidean_cost[0]-C1_pts_Euclidean_cost[19])/C1_pts_Euclidean_cost[0]*100)+\"%\")"
   ]
  },
  {
   "cell_type": "code",
   "execution_count": 8,
   "metadata": {},
   "outputs": [
    {
     "name": "stdout",
     "output_type": "stream",
     "text": [
      "79.43775029159899%\n"
     ]
    }
   ],
   "source": [
    "#c2\n",
    "print(str((C2_pts_Euclidean_cost[0]-C2_pts_Euclidean_cost[19])/C2_pts_Euclidean_cost[0]*100)+\"%\")"
   ]
  },
  {
   "cell_type": "markdown",
   "metadata": {},
   "source": [
    "# For problem (b)"
   ]
  },
  {
   "cell_type": "markdown",
   "metadata": {},
   "source": [
    "## Iteration of Manhattan\n",
    "###### 約5分鐘執行時間\n",
    "1. the processes is same as the Iteration of Euclidean\n",
    "2. the only different between the Iteration of Manhattan and Iteration of Euclidean is that we only have to modify the function define"
   ]
  },
  {
   "cell_type": "markdown",
   "metadata": {},
   "source": [
    "### Modify function\n",
    "1. mapper_cal_manhattan(x) is similar as mapper_cal_Euclidean that we don't have to do the the squre(i.e. **2) and sqrt() operation"
   ]
  },
  {
   "cell_type": "code",
   "execution_count": 9,
   "metadata": {},
   "outputs": [],
   "source": [
    "def mapper_cal_manhattan(x):\n",
    "    #, ((pt_i,pt), (ce_i,ce))\n",
    "    pt_index = x[1][0][0]\n",
    "    pt = x[1][0][1]\n",
    "    center_index = x[1][1][0]\n",
    "    center = x[1][1][1]\n",
    "    result = 0\n",
    "    for i in range(58):\n",
    "        result += abs((float(center[i])-float(pt[i])))\n",
    "    result = result\n",
    "    return pt_index,(center_index,pt,result)"
   ]
  },
  {
   "cell_type": "code",
   "execution_count": 10,
   "metadata": {
    "scrolled": false
   },
   "outputs": [],
   "source": [
    "#########for storing every cost preparing for plotting and reference for percentage##############\n",
    "C1_pts_Manhattan_i = []\n",
    "C1_pts_Manhattan_cost = []\n",
    "C2_pts_Manhattan_i = []\n",
    "C2_pts_Manhattan_cost = []\n",
    "#################################################################################################\n",
    "\n",
    "C1_center_with_label = c1_new.zipWithIndex()\n",
    "C2_center_with_label = c2_new.zipWithIndex()\n",
    "#tStart = time.time()\n",
    "for i in range(20):\n",
    "    #print(\"iteration: \"+ str(i))\n",
    "    #====================C1 Manhattan=====================================#\n",
    "    C1_center_with_label = C1_center_with_label.map(lambda x:(\"#\",(x[1],x[0])))\n",
    "    C1_manhattan_result_RDD_tmp = data_with_label.join(C1_center_with_label).map(mapper_cal_manhattan).reduceByKey(reducer_find_min).map(lambda x:x[1])\n",
    "    C1_centroid_cluster_manhattan = C1_manhattan_result_RDD_tmp.map(lambda x:(x[0],(1,x[1]))).reduceByKey(reducer_tmp_centroid).sortByKey(lambda x:x[0]).map(cal_center_2)\n",
    "    \n",
    "    C1_center_with_label = C1_centroid_cluster_manhattan\n",
    "    \n",
    "    C1_Cost_RDD = C1_manhattan_result_RDD_tmp.map(lambda x:(x[2])).sum()\n",
    "    #=====================================================================#\n",
    "    \n",
    "    \n",
    "    #====================C2 Manhattan=====================================#\n",
    "    C2_center_with_label = C2_center_with_label.map(lambda x:(\"#\",(x[1],x[0])))\n",
    "    C2_manhattan_result_RDD_tmp = data_with_label.join(C2_center_with_label).map(mapper_cal_manhattan).reduceByKey(reducer_find_min).map(lambda x:x[1])\n",
    "    C2_centroid_cluster_manhattan = C2_manhattan_result_RDD_tmp.map(lambda x:(x[0],(1,x[1]))).reduceByKey(reducer_tmp_centroid).sortByKey(lambda x:x[0]).map(cal_center_2)\n",
    "    \n",
    "    C2_center_with_label = C2_centroid_cluster_manhattan\n",
    "    \n",
    "    C2_Cost_RDD = C2_manhattan_result_RDD_tmp.map(lambda x:(x[2])).sum()\n",
    "    #=====================================================================#\n",
    "    \n",
    "    #=====================for plotting====================================#\n",
    "    C1_pts_Manhattan_i.append(\"Round \"+str(i+1)) \n",
    "    C1_pts_Manhattan_cost.append(C1_Cost_RDD) \n",
    "    C2_pts_Manhattan_i.append(\"Round \"+str(i+1)) \n",
    "    C2_pts_Manhattan_cost.append(C2_Cost_RDD) \n",
    "    #=====================================================================#\n",
    "    \n",
    "#tEnd = time.time()#計時結束\n",
    "#print(\"It cost %f sec\" % (tEnd - tStart))"
   ]
  },
  {
   "cell_type": "markdown",
   "metadata": {},
   "source": [
    "## (b)-1  Plotting"
   ]
  },
  {
   "cell_type": "code",
   "execution_count": 11,
   "metadata": {
    "scrolled": true
   },
   "outputs": [
    {
     "data": {
      "image/png": "[encoded data removed]",
      "text/plain": [
       "<Figure size 1080x216 with 1 Axes>"
      ]
     },
     "metadata": {
      "needs_background": "light"
     },
     "output_type": "display_data"
    }
   ],
   "source": [
    "fig= plt.figure(figsize=(15,3))\n",
    "axes= fig.add_axes([1,1,1,1])\n",
    "plt.grid(axis='y')\n",
    "plt.xlabel(\"Round\") \n",
    "plt.ylabel(\"Cost\") \n",
    "axes.plot(C1_pts_Manhattan_i,C1_pts_Manhattan_cost, color ='blue',marker = \"o\")\n",
    "axes.plot(C2_pts_Manhattan_i,C2_pts_Manhattan_cost, color ='orange',marker = \"o\")\n",
    "plt.show()"
   ]
  },
  {
   "cell_type": "markdown",
   "metadata": {},
   "source": [
    "## (b)-2 Persentage"
   ]
  },
  {
   "cell_type": "code",
   "execution_count": 12,
   "metadata": {},
   "outputs": [
    {
     "name": "stdout",
     "output_type": "stream",
     "text": [
      "18.393840107083186%\n"
     ]
    }
   ],
   "source": [
    "#c1\n",
    "print(str((C1_pts_Manhattan_cost[0]-C1_pts_Manhattan_cost[19])/C1_pts_Manhattan_cost[0]*100)+\"%\")"
   ]
  },
  {
   "cell_type": "code",
   "execution_count": 13,
   "metadata": {},
   "outputs": [
    {
     "name": "stdout",
     "output_type": "stream",
     "text": [
      "54.68569434813374%\n"
     ]
    }
   ],
   "source": [
    "#c2\n",
    "print(str((C2_pts_Manhattan_cost[0]-C2_pts_Manhattan_cost[19])/C2_pts_Manhattan_cost[0]*100)+\"%\")"
   ]
  },
  {
   "cell_type": "markdown",
   "metadata": {},
   "source": [
    "### Filled the Excel \n",
    "已將結果截圖至report\n",
    "1. collect the data from C1(C2)_th20_center_Euclidean(Manhattan).\n",
    "2. setting row name and columne name.\n",
    "3. zip them as a dataframe and than call dataframe.to_excel() to output the excel respectly."
   ]
  },
  {
   "cell_type": "code",
   "execution_count": 14,
   "metadata": {
    "scrolled": true
   },
   "outputs": [],
   "source": [
    "def cal_Euclidean_distance_for_each_center(x):\n",
    "    pt1 = x[0][1]\n",
    "    pt2 = x[1][1]\n",
    "    result = 0\n",
    "    for i in range(58):\n",
    "        result += (float(pt1[i])-float(pt2[i]))**2\n",
    "    result = math.sqrt(result)\n",
    "    return (x[0][0],x[1][0]),result\n",
    "C1_th20_center_Euclidean = C1_centroid_cluster_Euclidean.map(lambda x:(x[1],x[0]))\n",
    "C1_filled_ans_Euclidean = C1_th20_center_Euclidean.cartesian(C1_th20_center_Euclidean).filter(lambda x:x[0][0]<=x[1][0]).map(cal_Euclidean_distance_for_each_center).sortBy(lambda x:x[0][0])\n",
    "C1_filled_ans_Euclidean.collect()\n",
    "#build dataframe before write into excel\n",
    "col1 = []\n",
    "col2 = [\"\"]\n",
    "col3 = [\"\",\"\"]\n",
    "col4 = [\"\",\"\",\"\"]\n",
    "col5 = [\"\",\"\",\"\",\"\"]\n",
    "col6 = [\"\",\"\",\"\",\"\",\"\"]\n",
    "col7 = [\"\",\"\",\"\",\"\",\"\",\"\"]\n",
    "col8 = [\"\",\"\",\"\",\"\",\"\",\"\",\"\"]\n",
    "col9 = [\"\",\"\",\"\",\"\",\"\",\"\",\"\",\"\"]\n",
    "col10 = [\"\",\"\",\"\",\"\",\"\",\"\",\"\",\"\",\"\"]\n",
    "all_col = [col1,col2,col3,col4,col5,col6,col7,col8,col9,col10]\n",
    "col = [\"1\",\"2\",\"3\",\"4\",\"5\",\"6\",\"7\",\"8\",\"9\",\"10\"]\n",
    "for i in C1_filled_ans_Euclidean.collect():\n",
    "    all_col[int(i[0][0])].append(format(i[1],'.3f'))\n",
    "excel_c1_eu = pd.DataFrame(all_col,columns = col)\n",
    "excel_c1_eu.index = col\n",
    "excel_c1_eu.to_excel('C1_Euclidean.xlsx')"
   ]
  },
  {
   "cell_type": "code",
   "execution_count": 15,
   "metadata": {},
   "outputs": [],
   "source": [
    "C2_th20_center_Euclidean = C2_centroid_cluster_Euclidean.map(lambda x:(x[1],x[0]))\n",
    "C2_filled_ans_Euclidean = C2_th20_center_Euclidean.cartesian(C2_th20_center_Euclidean).filter(lambda x:x[0][0]<=x[1][0]).map(cal_Euclidean_distance_for_each_center).sortBy(lambda x:x[0][0])\n",
    "C2_filled_ans_Euclidean.collect()\n",
    "#build dataframe before write into excel\n",
    "col1 = []\n",
    "col2 = [\"\"]\n",
    "col3 = [\"\",\"\"]\n",
    "col4 = [\"\",\"\",\"\"]\n",
    "col5 = [\"\",\"\",\"\",\"\"]\n",
    "col6 = [\"\",\"\",\"\",\"\",\"\"]\n",
    "col7 = [\"\",\"\",\"\",\"\",\"\",\"\"]\n",
    "col8 = [\"\",\"\",\"\",\"\",\"\",\"\",\"\"]\n",
    "col9 = [\"\",\"\",\"\",\"\",\"\",\"\",\"\",\"\"]\n",
    "col10 = [\"\",\"\",\"\",\"\",\"\",\"\",\"\",\"\",\"\"]\n",
    "all_col = [col1,col2,col3,col4,col5,col6,col7,col8,col9,col10]\n",
    "col = [\"1\",\"2\",\"3\",\"4\",\"5\",\"6\",\"7\",\"8\",\"9\",\"10\"]\n",
    "for i in C2_filled_ans_Euclidean.collect():\n",
    "    all_col[int(i[0][0])].append(format(i[1],'.3f'))\n",
    "excel_c2_eu = pd.DataFrame(all_col,columns = col)\n",
    "excel_c2_eu.index = col\n",
    "excel_c2_eu.to_excel('C2_Euclidean.xlsx')"
   ]
  },
  {
   "cell_type": "code",
   "execution_count": 16,
   "metadata": {},
   "outputs": [],
   "source": [
    "def cal_Manhattan_distance_for_each_center(x):\n",
    "    pt1 = x[0][1]\n",
    "    pt2 = x[1][1]\n",
    "    result = 0\n",
    "    for i in range(58):\n",
    "        result += abs((float(pt1[i])-float(pt2[i])))\n",
    "    return (x[0][0],x[1][0]),result\n",
    "C1_th20_center_manhattan = C1_centroid_cluster_manhattan.map(lambda x:(x[1],x[0]))\n",
    "C1_filled_ans_manhattan = C1_th20_center_manhattan.cartesian(C1_th20_center_manhattan).filter(lambda x:x[0][0]<=x[1][0]).map(cal_Manhattan_distance_for_each_center).sortBy(lambda x:x[0][0])\n",
    "C1_filled_ans_manhattan.collect()\n",
    "#build dataframe before write into excel\n",
    "col1 = []\n",
    "col2 = [\"\"]\n",
    "col3 = [\"\",\"\"]\n",
    "col4 = [\"\",\"\",\"\"]\n",
    "col5 = [\"\",\"\",\"\",\"\"]\n",
    "col6 = [\"\",\"\",\"\",\"\",\"\"]\n",
    "col7 = [\"\",\"\",\"\",\"\",\"\",\"\"]\n",
    "col8 = [\"\",\"\",\"\",\"\",\"\",\"\",\"\"]\n",
    "col9 = [\"\",\"\",\"\",\"\",\"\",\"\",\"\",\"\"]\n",
    "col10 = [\"\",\"\",\"\",\"\",\"\",\"\",\"\",\"\",\"\"]\n",
    "all_col = [col1,col2,col3,col4,col5,col6,col7,col8,col9,col10]\n",
    "col = [\"1\",\"2\",\"3\",\"4\",\"5\",\"6\",\"7\",\"8\",\"9\",\"10\"]\n",
    "for i in C1_filled_ans_manhattan.collect():\n",
    "    all_col[int(i[0][0])].append(format(i[1],'.3f'))\n",
    "excel_c1_ma = pd.DataFrame(all_col,columns = col)\n",
    "excel_c1_ma.index = col\n",
    "excel_c1_ma.to_excel('C1_Manhattan.xlsx')"
   ]
  },
  {
   "cell_type": "code",
   "execution_count": 18,
   "metadata": {},
   "outputs": [],
   "source": [
    "C2_th20_center_manhattan = C2_centroid_cluster_manhattan.map(lambda x:(x[1],x[0]))\n",
    "C2_filled_ans_manhattan = C2_th20_center_manhattan.cartesian(C2_th20_center_manhattan).filter(lambda x:x[0][0]<=x[1][0]).map(cal_Manhattan_distance_for_each_center).sortBy(lambda x:x[0][0])\n",
    "C2_filled_ans_manhattan.collect()\n",
    "col1 = []\n",
    "col2 = [\"\"]\n",
    "col3 = [\"\",\"\"]\n",
    "col4 = [\"\",\"\",\"\"]\n",
    "col5 = [\"\",\"\",\"\",\"\"]\n",
    "col6 = [\"\",\"\",\"\",\"\",\"\"]\n",
    "col7 = [\"\",\"\",\"\",\"\",\"\",\"\"]\n",
    "col8 = [\"\",\"\",\"\",\"\",\"\",\"\",\"\"]\n",
    "col9 = [\"\",\"\",\"\",\"\",\"\",\"\",\"\",\"\"]\n",
    "col10 = [\"\",\"\",\"\",\"\",\"\",\"\",\"\",\"\",\"\"]\n",
    "all_col = [col1,col2,col3,col4,col5,col6,col7,col8,col9,col10]\n",
    "col = [\"1\",\"2\",\"3\",\"4\",\"5\",\"6\",\"7\",\"8\",\"9\",\"10\"]\n",
    "for i in C2_filled_ans_manhattan.collect():\n",
    "    all_col[int(i[0][0])].append(format(i[1],'.3f'))\n",
    "excel_c2_ma = pd.DataFrame(all_col,columns = col)\n",
    "excel_c2_ma.index = col\n",
    "excel_c2_ma.to_excel('C2_Manhattan.xlsx')"
   ]
  }
 ],
 "metadata": {
  "kernelspec": {
   "display_name": "Python 3",
   "language": "python",
   "name": "python3"
  },
  "language_info": {
   "codemirror_mode": {
    "name": "ipython",
    "version": 3
   },
   "file_extension": ".py",
   "mimetype": "text/x-python",
   "name": "python",
   "nbconvert_exporter": "python",
   "pygments_lexer": "ipython3",
   "version": "3.6.5"
  }
 },
 "nbformat": 4,
 "nbformat_minor": 4
}
